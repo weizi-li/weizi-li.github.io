{
  "cells": [
    {
      "cell_type": "markdown",
      "id": "31b8db84",
      "metadata": {
        "id": "31b8db84"
      },
      "source": [
        "## This is a text cell\n",
        "- First things first\n",
        "- Second things second"
      ]
    },
    {
      "cell_type": "code",
      "execution_count": null,
      "id": "8d9a927d",
      "metadata": {
        "id": "8d9a927d",
        "outputId": "248b9e46-f55d-4622-e3c2-1a6faccdc69e"
      },
      "outputs": [
        {
          "name": "stdout",
          "output_type": "stream",
          "text": [
            "Hello World\n"
          ]
        }
      ],
      "source": [
        "#  First\n",
        "print(\"Hello World\")"
      ]
    },
    {
      "cell_type": "code",
      "execution_count": null,
      "id": "3c260be5",
      "metadata": {
        "id": "3c260be5"
      },
      "outputs": [],
      "source": [
        "import numpy as np   "
      ]
    },
    {
      "cell_type": "code",
      "execution_count": null,
      "id": "d509d58c",
      "metadata": {
        "id": "d509d58c",
        "outputId": "27a8b8c7-066f-450b-8d6a-ae74649c8418"
      },
      "outputs": [
        {
          "name": "stdout",
          "output_type": "stream",
          "text": [
            "[0, 1, 2, 3, 4, 5]\n",
            "[4, 5, 6, 7, 8, 9]\n"
          ]
        }
      ],
      "source": [
        "# create lists\n",
        "a = [ 0,1,2,3,4,5] # 6 elements\n",
        "\n",
        "b = [4,5,6,7,8,9] # 6 elements\n",
        "\n",
        "print(f\"{a}\\n{b}\") # Using python f strings to print"
      ]
    },
    {
      "cell_type": "code",
      "execution_count": null,
      "id": "909fa156",
      "metadata": {
        "id": "909fa156",
        "outputId": "59811ad4-002b-43a1-88d4-54cb7783a85a"
      },
      "outputs": [
        {
          "name": "stdout",
          "output_type": "stream",
          "text": [
            "<class 'numpy.ndarray'> <class 'list'>\n"
          ]
        }
      ],
      "source": [
        "# Create numpy array from list\n",
        "c = np.array(a)\n",
        "\n",
        "# Now, Lets see what the of 'a' and and 'c' are \n",
        "print(type(c), type(a))"
      ]
    },
    {
      "cell_type": "code",
      "execution_count": null,
      "id": "66ed6694",
      "metadata": {
        "id": "66ed6694",
        "outputId": "422d25cd-f6ed-4270-9495-40a6176c8324"
      },
      "outputs": [
        {
          "name": "stdout",
          "output_type": "stream",
          "text": [
            "(6,)\n"
          ]
        }
      ],
      "source": [
        "# Since 'c' is a numpy array, we can use .shape to see its dimensions\n",
        "print(c.shape)"
      ]
    },
    {
      "cell_type": "code",
      "execution_count": null,
      "id": "e054d933",
      "metadata": {
        "id": "e054d933",
        "outputId": "b7e5e47c-f5ae-49de-b19a-42bbb39a38c9"
      },
      "outputs": [
        {
          "name": "stdout",
          "output_type": "stream",
          "text": [
            "(3,) (3,)\n",
            "\n",
            "x = [5 7 9]\n",
            "\n",
            "Shape of x = (3,)\n",
            "\n",
            "Dot product: 20\n",
            "\n",
            "Element wise: [ 0  6 14]\n",
            "\n",
            "y = 20\n",
            "\n",
            "5x the matrix j = [25 30 35]\n",
            "\n",
            "max = 2\n",
            "\n",
            "min = 0\n",
            "\n",
            "1.0 0.816496580927726\n"
          ]
        }
      ],
      "source": [
        "# Lets create a few more arrays and do basic operations on them using NumPy\n",
        "\n",
        "i = np.array([0,1,2])\n",
        "j = np.array([5,6,7])\n",
        "\n",
        "# add\n",
        "x = i + j\n",
        "print(i.shape, j.shape)\n",
        "print(f\"\\nx = {x}\\n\")\n",
        "print(f\"Shape of x = {x.shape}\\n\")\n",
        "\n",
        "# Dot product of 2 matrices\n",
        "print(f\"Dot product: {np.dot(i,j)}\\n\")\n",
        "\n",
        "# Element wise multiplication of all elements\n",
        "print(f\"Element wise: {i*j}\\n\")\n",
        "\n",
        "# Matrix Multiplication \n",
        "# Will produce different results than dot product for higher dimensions\n",
        "y = np.matmul(i , j) \n",
        "print(f\"y = {y}\\n\")\n",
        "\n",
        "# Multiply a vector by a scalar\n",
        "p = 5*j\n",
        "print(f\"5x the matrix j = {p}\\n\")\n",
        "\n",
        "# statistical properties of arrays\n",
        "\n",
        "# max in an array \n",
        "z = np.max(i)\n",
        "print(f\"max = {z}\\n\")\n",
        "\n",
        "# min in an array \n",
        "x_1 = np.min(i)\n",
        "print(f\"min = {x_1}\\n\")\n",
        "\n",
        "# mean, std of array\n",
        "print(np.mean(i), np.std(i))"
      ]
    },
    {
      "cell_type": "code",
      "execution_count": null,
      "id": "622ff334",
      "metadata": {
        "id": "622ff334",
        "outputId": "674f88c6-3b95-4815-8782-233837453b97"
      },
      "outputs": [
        {
          "data": {
            "text/plain": [
              "array([ 0,  1,  4,  9, 16, 25])"
            ]
          },
          "execution_count": 7,
          "metadata": {},
          "output_type": "execute_result"
        }
      ],
      "source": [
        "# Square all elements of array\n",
        "f = c**2\n",
        "f"
      ]
    },
    {
      "cell_type": "code",
      "execution_count": null,
      "id": "74ead038",
      "metadata": {
        "id": "74ead038",
        "outputId": "beac054b-b3f8-408d-a9c7-8ee26ce45295"
      },
      "outputs": [
        {
          "data": {
            "text/plain": [
              "(6,)"
            ]
          },
          "execution_count": 8,
          "metadata": {},
          "output_type": "execute_result"
        }
      ],
      "source": [
        "np.shape(c)"
      ]
    },
    {
      "cell_type": "code",
      "execution_count": null,
      "id": "bb6579cb",
      "metadata": {
        "id": "bb6579cb",
        "outputId": "d2f6ec7f-2348-4a4f-c45d-680b275ce93f"
      },
      "outputs": [
        {
          "name": "stdout",
          "output_type": "stream",
          "text": [
            "(6,) (3, 2)\n"
          ]
        }
      ],
      "source": [
        "# Change the shape of an array\n",
        "g = c.reshape(3,2)\n",
        "print(c.shape, g.shape)"
      ]
    },
    {
      "cell_type": "markdown",
      "id": "83c2e025",
      "metadata": {
        "id": "83c2e025"
      },
      "source": [
        "#### Loop"
      ]
    },
    {
      "cell_type": "code",
      "execution_count": null,
      "id": "cb30ca27",
      "metadata": {
        "id": "cb30ca27",
        "outputId": "fc171602-bbc0-4cab-ae49-bfaa2345fbd9"
      },
      "outputs": [
        {
          "name": "stdout",
          "output_type": "stream",
          "text": [
            "a\n",
            "b\n",
            "c\n"
          ]
        }
      ],
      "source": [
        "#for loop\n",
        "list_item = [\"a\", \"b\", \"c\"]\n",
        "for i in list_item:\n",
        "    print(i)"
      ]
    },
    {
      "cell_type": "code",
      "execution_count": null,
      "id": "4417ced5",
      "metadata": {
        "id": "4417ced5",
        "outputId": "028c07d0-045b-4ed3-e0fa-64767dfe9467"
      },
      "outputs": [
        {
          "name": "stdout",
          "output_type": "stream",
          "text": [
            "1\n",
            "2\n",
            "3\n",
            "4\n",
            "5\n"
          ]
        }
      ],
      "source": [
        "#while loop\n",
        "i = 1\n",
        "while i < 6:\n",
        "    print(i)\n",
        "    i += 1"
      ]
    },
    {
      "cell_type": "markdown",
      "id": "584aac0c",
      "metadata": {
        "id": "584aac0c"
      },
      "source": [
        "#### Print a message if condition is false"
      ]
    },
    {
      "cell_type": "code",
      "execution_count": null,
      "id": "994e382e",
      "metadata": {
        "id": "994e382e",
        "outputId": "239db263-1d94-4417-a3c9-017d6e0608d4"
      },
      "outputs": [
        {
          "name": "stdout",
          "output_type": "stream",
          "text": [
            "1\n",
            "2\n",
            "3\n",
            "4\n",
            "5\n",
            "i is no longer less than 6\n"
          ]
        }
      ],
      "source": [
        "i = 1\n",
        "while i < 6:\n",
        "    print(i)\n",
        "    i += 1\n",
        "else:\n",
        "    print(\"i is no longer less than 6\")"
      ]
    },
    {
      "cell_type": "code",
      "execution_count": null,
      "id": "19d91831",
      "metadata": {
        "id": "19d91831",
        "outputId": "146f1fe4-55af-472c-9fdd-85bf0c197441"
      },
      "outputs": [
        {
          "name": "stdout",
          "output_type": "stream",
          "text": [
            "a d\n",
            "a e\n",
            "a f\n",
            "b d\n",
            "b e\n",
            "b f\n",
            "c d\n",
            "c e\n",
            "c f\n"
          ]
        }
      ],
      "source": [
        "# nested loop\n",
        "list_item1 = [\"a\", \"b\", \"c\"]\n",
        "list_item2 = [\"d\", \"e\", \"f\"]\n",
        "for i in list_item1:\n",
        "    for j in list_item2:\n",
        "        print(i, j)"
      ]
    },
    {
      "cell_type": "code",
      "execution_count": null,
      "id": "49faf665",
      "metadata": {
        "id": "49faf665",
        "outputId": "193c6680-0907-4a48-bdd5-379bfe0296a7"
      },
      "outputs": [
        {
          "name": "stdout",
          "output_type": "stream",
          "text": [
            "a\n",
            "b\n"
          ]
        }
      ],
      "source": [
        "#break from condition\n",
        "list_item = [\"a\", \"b\", \"c\"]\n",
        "for i in list_item:\n",
        "    print(i)\n",
        "    if i == \"b\":\n",
        "        break"
      ]
    },
    {
      "cell_type": "code",
      "execution_count": null,
      "id": "3a65151e",
      "metadata": {
        "id": "3a65151e",
        "outputId": "f26c515d-87da-4b23-bfcb-a18730de019f"
      },
      "outputs": [
        {
          "name": "stdout",
          "output_type": "stream",
          "text": [
            "a\n",
            "c\n"
          ]
        }
      ],
      "source": [
        "#continue to next \n",
        "list_item = [\"a\", \"b\", \"c\"]\n",
        "for i in list_item:\n",
        "    if i == \"b\":\n",
        "        continue\n",
        "    print(i)"
      ]
    },
    {
      "cell_type": "code",
      "execution_count": null,
      "id": "e28ece99",
      "metadata": {
        "id": "e28ece99",
        "outputId": "38644b5b-c183-4c66-ff2d-808298ebdd93"
      },
      "outputs": [
        {
          "name": "stdout",
          "output_type": "stream",
          "text": [
            "0\n",
            "1\n",
            "2\n",
            "3\n",
            "4\n",
            "5\n"
          ]
        }
      ],
      "source": [
        "for index in range(6):\n",
        "    print(index)"
      ]
    },
    {
      "cell_type": "markdown",
      "id": "73df08bc",
      "metadata": {
        "id": "73df08bc"
      },
      "source": [
        "#### if statement"
      ]
    },
    {
      "cell_type": "code",
      "execution_count": null,
      "id": "ef12df7c",
      "metadata": {
        "id": "ef12df7c",
        "outputId": "e3265d78-31f9-4949-819c-133fd048da80"
      },
      "outputs": [
        {
          "name": "stdout",
          "output_type": "stream",
          "text": [
            "Number is positive.\n",
            "The if statement is easy\n"
          ]
        }
      ],
      "source": [
        "number = 10\n",
        "\n",
        "# check if number is greater than 0\n",
        "if number > 0:\n",
        "    print('Number is positive.')\n",
        "\n",
        "print('The if statement is easy')"
      ]
    },
    {
      "cell_type": "markdown",
      "id": "c1405d13",
      "metadata": {
        "id": "c1405d13"
      },
      "source": [
        "#### if-else statement"
      ]
    },
    {
      "cell_type": "code",
      "execution_count": null,
      "id": "8bc48739",
      "metadata": {
        "id": "8bc48739",
        "outputId": "33be7a80-a262-4ea5-8ddf-07572a187c16"
      },
      "outputs": [
        {
          "name": "stdout",
          "output_type": "stream",
          "text": [
            "Positive number\n",
            "This statement is in out of loop\n"
          ]
        }
      ],
      "source": [
        "number = 10\n",
        "\n",
        "if number > 0:\n",
        "    print('Positive number')\n",
        "\n",
        "else:\n",
        "    print('Negative number')\n",
        "\n",
        "print('This statement is in out of loop')"
      ]
    },
    {
      "cell_type": "markdown",
      "id": "e13f4aab",
      "metadata": {
        "id": "e13f4aab"
      },
      "source": [
        "#### if...elif...else statement"
      ]
    },
    {
      "cell_type": "code",
      "execution_count": null,
      "id": "7e938513",
      "metadata": {
        "id": "7e938513",
        "outputId": "521e3e2d-3faf-4047-a14c-b8362b3ef85d"
      },
      "outputs": [
        {
          "name": "stdout",
          "output_type": "stream",
          "text": [
            "Zero\n",
            "This statement is in out of loop\n"
          ]
        }
      ],
      "source": [
        "number = 0\n",
        "\n",
        "if number > 0:\n",
        "    print(\"Positive number\")\n",
        "\n",
        "elif number == 0:\n",
        "    print('Zero')\n",
        "else:\n",
        "    print('Negative number')\n",
        "\n",
        "print('This statement is in out of loop')"
      ]
    },
    {
      "cell_type": "markdown",
      "id": "6f331fe7",
      "metadata": {
        "id": "6f331fe7"
      },
      "source": [
        "#### Nested if statements"
      ]
    },
    {
      "cell_type": "code",
      "execution_count": null,
      "id": "b1b32f3e",
      "metadata": {
        "id": "b1b32f3e",
        "outputId": "5041f230-8875-4d78-d2db-b399412606f2"
      },
      "outputs": [
        {
          "name": "stdout",
          "output_type": "stream",
          "text": [
            "Number is positive\n"
          ]
        }
      ],
      "source": [
        "number = 5\n",
        "\n",
        "# outer if statement\n",
        "if (number >= 0):\n",
        "    # inner if statement\n",
        "    if number == 0:\n",
        "        print('Number is 0')\n",
        "    \n",
        "    # inner else statement\n",
        "    else:\n",
        "        print('Number is positive')\n",
        "\n",
        "# outer else statement\n",
        "else:\n",
        "    print('Number is negative')\n"
      ]
    },
    {
      "cell_type": "markdown",
      "id": "6f7d391c",
      "metadata": {
        "id": "6f7d391c"
      },
      "source": [
        "#### Create user-defined function and passing arguments"
      ]
    },
    {
      "cell_type": "code",
      "execution_count": null,
      "id": "f941a981",
      "metadata": {
        "id": "f941a981",
        "outputId": "16e6377a-6d30-4d14-ec2f-23bd441be58f"
      },
      "outputs": [
        {
          "name": "stdout",
          "output_type": "stream",
          "text": [
            "7\n"
          ]
        }
      ],
      "source": [
        "def sum_the_numbers (num1, num2):\n",
        "    total = num1 + num2\n",
        "    return total\n",
        "    \n",
        "#calling from main\n",
        "sum_of_num = sum_the_numbers(2,5)\n",
        "print(sum_of_num)"
      ]
    },
    {
      "cell_type": "markdown",
      "id": "4f700d3d",
      "metadata": {
        "id": "4f700d3d"
      },
      "source": [
        "#### Generate random values"
      ]
    },
    {
      "cell_type": "code",
      "execution_count": null,
      "id": "29ce2c4e",
      "metadata": {
        "id": "29ce2c4e",
        "outputId": "b4e27e44-dbcc-4000-b1a5-7c4d6de32c56"
      },
      "outputs": [
        {
          "name": "stdout",
          "output_type": "stream",
          "text": [
            "0.6146266730246773 0.7277159229196035 0.8907800936381155\n"
          ]
        }
      ],
      "source": [
        "from random import random\n",
        "# generate some random numbers\n",
        "print(random(), random(), random())"
      ]
    },
    {
      "cell_type": "markdown",
      "id": "a59bfb9b",
      "metadata": {
        "id": "a59bfb9b"
      },
      "source": [
        "#### Ploting"
      ]
    },
    {
      "cell_type": "code",
      "execution_count": null,
      "id": "a348489b",
      "metadata": {
        "id": "a348489b",
        "outputId": "1ea0b3ff-7663-4a45-8af4-81d591a2528f"
      },
      "outputs": [
        {
          "data": {
            "image/png": "[encoded data removed]",
            "text/plain": [
              "<Figure size 640x480 with 1 Axes>"
            ]
          },
          "metadata": {},
          "output_type": "display_data"
        }
      ],
      "source": [
        "# importing the required module\n",
        "import matplotlib.pyplot as plt\n",
        "  \n",
        "# x axis values\n",
        "x = [1,2,3]\n",
        "# corresponding y axis values\n",
        "y = [2,4,1]\n",
        "  \n",
        "# plotting the points \n",
        "plt.plot(x, y)\n",
        "  \n",
        "# naming the x axis\n",
        "plt.xlabel('x - axis')\n",
        "# naming the y axis\n",
        "plt.ylabel('y - axis')\n",
        "  \n",
        "# giving a title to my graph\n",
        "plt.title('Graph Plotting')\n",
        "  \n",
        "# function to show the plot\n",
        "plt.show()"
      ]
    },
    {
      "cell_type": "code",
      "execution_count": null,
      "id": "eee1af7b",
      "metadata": {
        "id": "eee1af7b"
      },
      "outputs": [],
      "source": []
    }
  ],
  "metadata": {
    "kernelspec": {
      "display_name": "Python 3 (ipykernel)",
      "language": "python",
      "name": "python3"
    },
    "language_info": {
      "codemirror_mode": {
        "name": "ipython",
        "version": 3
      },
      "file_extension": ".py",
      "mimetype": "text/x-python",
      "name": "python",
      "nbconvert_exporter": "python",
      "pygments_lexer": "ipython3",
      "version": "3.11.0"
    },
    "colab": {
      "provenance": []
    }
  },
  "nbformat": 4,
  "nbformat_minor": 5
}