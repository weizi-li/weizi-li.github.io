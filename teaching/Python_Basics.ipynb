{
  "nbformat": 4,
  "nbformat_minor": 0,
  "metadata": {
    "colab": {
      "name": "Basics.ipynb",
      "provenance": [],
      "collapsed_sections": []
    },
    "kernelspec": {
      "name": "python3",
      "display_name": "Python 3"
    },
    "language_info": {
      "name": "python"
    }
  },
  "cells": [
    {
      "cell_type": "markdown",
      "source": [
        "## This is a text cell\n",
        "  - First things first\n",
        "  - Second things second"
      ],
      "metadata": {
        "id": "O15TbNUaIWKx"
      }
    },
    {
      "cell_type": "code",
      "source": [
        "#  First\n",
        "print(\"Hello World\")"
      ],
      "metadata": {
        "colab": {
          "base_uri": "https://localhost:8080/"
        },
        "id": "NRNZtI7Irhsu",
        "outputId": "f6024199-0a6c-43f5-b42f-3785e169a35c"
      },
      "execution_count": null,
      "outputs": [
        {
          "output_type": "stream",
          "name": "stdout",
          "text": [
            "Hello World\n"
          ]
        }
      ]
    },
    {
      "cell_type": "code",
      "source": [
        "import numpy as np"
      ],
      "metadata": {
        "id": "dFcuzM2wrIHR"
      },
      "execution_count": null,
      "outputs": []
    },
    {
      "cell_type": "code",
      "source": [
        "# create lists\n",
        "a = [ 0,1,2,3,4,5] # 6 elements\n",
        "\n",
        "b = [4,5,6,7,8,9] # 6 elements\n",
        "\n",
        "print(f\"{a}\\n{b}\") # Using python f strings to print"
      ],
      "metadata": {
        "id": "DLEEYOclIHER",
        "colab": {
          "base_uri": "https://localhost:8080/"
        },
        "outputId": "f37d1ca6-71ea-418c-bb60-aa30099f9299"
      },
      "execution_count": null,
      "outputs": [
        {
          "output_type": "stream",
          "name": "stdout",
          "text": [
            "[0, 1, 2, 3, 4, 5]\n",
            "[4, 5, 6, 7, 8, 9]\n"
          ]
        }
      ]
    },
    {
      "cell_type": "code",
      "source": [
        "# Create numpy array from list\n",
        "c = np.array(a)\n",
        "\n",
        "# Now, Lets see what the of 'a' and and 'c' are \n",
        "print(type(c), type(a))"
      ],
      "metadata": {
        "colab": {
          "base_uri": "https://localhost:8080/"
        },
        "id": "rimOFh0yIPo0",
        "outputId": "0342ec8b-5d4f-48ee-f63d-81662fbb9d1c"
      },
      "execution_count": null,
      "outputs": [
        {
          "output_type": "stream",
          "name": "stdout",
          "text": [
            "<class 'numpy.ndarray'> <class 'list'>\n"
          ]
        }
      ]
    },
    {
      "cell_type": "code",
      "source": [
        "# Since 'c' is a numpy array, we can use .shape to see its dimensions\n",
        "print(c.shape)"
      ],
      "metadata": {
        "colab": {
          "base_uri": "https://localhost:8080/"
        },
        "id": "IRR99gocKI49",
        "outputId": "c93e2c69-3588-4447-c48d-a3bb231e794c"
      },
      "execution_count": null,
      "outputs": [
        {
          "output_type": "stream",
          "name": "stdout",
          "text": [
            "(6,)\n"
          ]
        }
      ]
    },
    {
      "cell_type": "code",
      "source": [
        "# Lets create a few more arrays and do basic operations on them using NumPy\n",
        "\n",
        "i = np.array([0,1,2])\n",
        "j = np.array([5,6,7])\n",
        "\n",
        "# add\n",
        "x = i + j\n",
        "print(i.shape, j.shape)\n",
        "print(f\"\\nx = {x}\\n\")\n",
        "print(f\"Shape of x = {x.shape}\\n\")\n",
        "\n",
        "# Dot product of 2 matrices\n",
        "print(f\"Dot product: {np.dot(i,j)}\\n\")\n",
        "\n",
        "# Element wise multiplication of all elements\n",
        "print(f\"Element wise: {i*j}\\n\")\n",
        "\n",
        "# Matrix Multiplication \n",
        "# Will produce different results than dot product for higher dimensions\n",
        "y = np.matmul(i , j) \n",
        "print(f\"y = {y}\\n\")\n",
        "\n",
        "# Multiply a vector by a scalar\n",
        "p = 5*j\n",
        "print(f\"5x the matrix j = {p}\\n\")\n",
        "\n",
        "# statistical properties of arrays\n",
        "\n",
        "# max in an array \n",
        "z = np.max(i)\n",
        "print(f\"max = {z}\\n\")\n",
        "\n",
        "# min in an array \n",
        "x_1 = np.min(i)\n",
        "print(f\"min = {x_1}\\n\")\n",
        "\n",
        "# mean, std of array\n",
        "print(np.mean(i), np.std(i))"
      ],
      "metadata": {
        "colab": {
          "base_uri": "https://localhost:8080/"
        },
        "id": "pjW0DaIUKRaj",
        "outputId": "b88bbf39-65af-457f-ee37-aa5c56ca800e"
      },
      "execution_count": null,
      "outputs": [
        {
          "output_type": "stream",
          "name": "stdout",
          "text": [
            "(3,) (3,)\n",
            "\n",
            "x = [5 7 9]\n",
            "\n",
            "Shape of x = (3,)\n",
            "\n",
            "Dot product: 20\n",
            "\n",
            "Element wise: [ 0  6 14]\n",
            "\n",
            "y = 20\n",
            "\n",
            "5x the matrix j = [25 30 35]\n",
            "\n",
            "max = 2\n",
            "\n",
            "min = 0\n",
            "\n",
            "1.0 0.816496580927726\n"
          ]
        }
      ]
    },
    {
      "cell_type": "code",
      "source": [
        "# Square all elements of array\n",
        "f = c**2\n",
        "f"
      ],
      "metadata": {
        "colab": {
          "base_uri": "https://localhost:8080/"
        },
        "id": "nBzkAEImJao3",
        "outputId": "c6a45625-1462-4fa4-e0f5-a0b05993c167"
      },
      "execution_count": null,
      "outputs": [
        {
          "output_type": "execute_result",
          "data": {
            "text/plain": [
              "array([ 0,  1,  4,  9, 16, 25])"
            ]
          },
          "metadata": {},
          "execution_count": 7
        }
      ]
    },
    {
      "cell_type": "code",
      "source": [
        "np.shape(c)"
      ],
      "metadata": {
        "colab": {
          "base_uri": "https://localhost:8080/"
        },
        "id": "U9k8vcvsJc_K",
        "outputId": "e35c1934-bdd8-4fa6-f96b-f4d42eb4a904"
      },
      "execution_count": null,
      "outputs": [
        {
          "output_type": "execute_result",
          "data": {
            "text/plain": [
              "(6,)"
            ]
          },
          "metadata": {},
          "execution_count": 8
        }
      ]
    },
    {
      "cell_type": "code",
      "source": [
        "# Change the shape of an array\n",
        "g = c.reshape(3,2)\n",
        "print(c.shape, g.shape)"
      ],
      "metadata": {
        "id": "BTv6c5__JlPy",
        "colab": {
          "base_uri": "https://localhost:8080/"
        },
        "outputId": "364e2822-fe9d-4376-85ee-ecd86f1bbd4e"
      },
      "execution_count": null,
      "outputs": [
        {
          "output_type": "stream",
          "name": "stdout",
          "text": [
            "(6,) (3, 2)\n"
          ]
        }
      ]
    }
  ]
}