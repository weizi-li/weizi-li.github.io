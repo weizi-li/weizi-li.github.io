{
  "nbformat": 4,
  "nbformat_minor": 0,
  "metadata": {
    "colab": {
      "provenance": [],
      "collapsed_sections": []
    },
    "kernelspec": {
      "name": "python3",
      "display_name": "Python 3"
    },
    "language_info": {
      "name": "python"
    }
  },
  "cells": [
    {
      "cell_type": "markdown",
      "source": [
        "# Assignment 2: Linear Models (Solution)\n",
        "---\n",
        "\n",
        "## Exercise 1. Linear Classification\n",
        "For this exercise, you will need several packages. Let's import them using the following code.\n",
        "\n",
        "                    import matplotlib.pyplot as plt\n",
        "                    import numpy as np\n",
        "                    from sklearn import datasets\n",
        "                    from sklearn import decomposition\n",
        "                    from sklearn.model_selection import train_test_split\n",
        "                    from sklearn.linear_model import SGDClassifier\n",
        "\n",
        "Now, please complete the following steps. \n",
        "\n",
        "- Load the [diabetes dataset](https://scikit-learn.org/stable/modules/generated/sklearn.datasets.load_diabetes.html) and convert its labels from numerical to categorical using the average of all labels: if `label value` `<` `label value average`, set label `= 1`, else set label `= -1`.\n"
      ],
      "metadata": {
        "id": "PhmhjSMz0vNB"
      }
    },
    {
      "cell_type": "code",
      "execution_count": null,
      "metadata": {
        "id": "ClqTldfLsopS"
      },
      "outputs": [],
      "source": [
        "import matplotlib.pyplot as plt\n",
        "import numpy as np\n",
        "from sklearn import datasets\n",
        "from sklearn import decomposition\n",
        "from sklearn.model_selection import train_test_split\n",
        "from sklearn.linear_model import SGDClassifier"
      ]
    },
    {
      "cell_type": "code",
      "source": [
        "\"\"\"\n",
        "Load the diabetes dataset\n",
        "\"\"\"\n",
        "diabetes_X, diabetes_y = datasets.load_diabetes(return_X_y=True)\n",
        "\n",
        "print(diabetes_X.shape)\n",
        "print(diabetes_y.shape)\n",
        "print(diabetes_y)"
      ],
      "metadata": {
        "colab": {
          "base_uri": "https://localhost:8080/"
        },
        "id": "7W1sOVihxQzo",
        "outputId": "d0a122dc-f2be-4736-b225-2829e53e3e88"
      },
      "execution_count": null,
      "outputs": [
        {
          "output_type": "stream",
          "name": "stdout",
          "text": [
            "(442, 10)\n",
            "(442,)\n",
            "[151.  75. 141. 206. 135.  97. 138.  63. 110. 310. 101.  69. 179. 185.\n",
            " 118. 171. 166. 144.  97. 168.  68.  49.  68. 245. 184. 202. 137.  85.\n",
            " 131. 283. 129.  59. 341.  87.  65. 102. 265. 276. 252.  90. 100.  55.\n",
            "  61.  92. 259.  53. 190. 142.  75. 142. 155. 225.  59. 104. 182. 128.\n",
            "  52.  37. 170. 170.  61. 144.  52. 128.  71. 163. 150.  97. 160. 178.\n",
            "  48. 270. 202. 111.  85.  42. 170. 200. 252. 113. 143.  51.  52. 210.\n",
            "  65. 141.  55. 134.  42. 111.  98. 164.  48.  96.  90. 162. 150. 279.\n",
            "  92.  83. 128. 102. 302. 198.  95.  53. 134. 144. 232.  81. 104.  59.\n",
            " 246. 297. 258. 229. 275. 281. 179. 200. 200. 173. 180.  84. 121. 161.\n",
            "  99. 109. 115. 268. 274. 158. 107.  83. 103. 272.  85. 280. 336. 281.\n",
            " 118. 317. 235.  60. 174. 259. 178. 128.  96. 126. 288.  88. 292.  71.\n",
            " 197. 186.  25.  84.  96. 195.  53. 217. 172. 131. 214.  59.  70. 220.\n",
            " 268. 152.  47.  74. 295. 101. 151. 127. 237. 225.  81. 151. 107.  64.\n",
            " 138. 185. 265. 101. 137. 143. 141.  79. 292. 178.  91. 116.  86. 122.\n",
            "  72. 129. 142.  90. 158.  39. 196. 222. 277.  99. 196. 202. 155.  77.\n",
            " 191.  70.  73.  49.  65. 263. 248. 296. 214. 185.  78.  93. 252. 150.\n",
            "  77. 208.  77. 108. 160.  53. 220. 154. 259.  90. 246. 124.  67.  72.\n",
            " 257. 262. 275. 177.  71.  47. 187. 125.  78.  51. 258. 215. 303. 243.\n",
            "  91. 150. 310. 153. 346.  63.  89.  50.  39. 103. 308. 116. 145.  74.\n",
            "  45. 115. 264.  87. 202. 127. 182. 241.  66.  94. 283.  64. 102. 200.\n",
            " 265.  94. 230. 181. 156. 233.  60. 219.  80.  68. 332. 248.  84. 200.\n",
            "  55.  85.  89.  31. 129.  83. 275.  65. 198. 236. 253. 124.  44. 172.\n",
            " 114. 142. 109. 180. 144. 163. 147.  97. 220. 190. 109. 191. 122. 230.\n",
            " 242. 248. 249. 192. 131. 237.  78. 135. 244. 199. 270. 164.  72.  96.\n",
            " 306.  91. 214.  95. 216. 263. 178. 113. 200. 139. 139.  88. 148.  88.\n",
            " 243.  71.  77. 109. 272.  60.  54. 221.  90. 311. 281. 182. 321.  58.\n",
            " 262. 206. 233. 242. 123. 167.  63. 197.  71. 168. 140. 217. 121. 235.\n",
            " 245.  40.  52. 104. 132.  88.  69. 219.  72. 201. 110.  51. 277.  63.\n",
            " 118.  69. 273. 258.  43. 198. 242. 232. 175.  93. 168. 275. 293. 281.\n",
            "  72. 140. 189. 181. 209. 136. 261. 113. 131. 174. 257.  55.  84.  42.\n",
            " 146. 212. 233.  91. 111. 152. 120.  67. 310.  94. 183.  66. 173.  72.\n",
            "  49.  64.  48. 178. 104. 132. 220.  57.]\n"
          ]
        }
      ]
    },
    {
      "cell_type": "code",
      "source": [
        "\"\"\"\n",
        "convert numerical labels to categorical labels\n",
        "\"\"\"\n",
        "y_mean = np.mean(diabetes_y)  # 152.13\n",
        "print(y_mean)\n",
        "\n",
        "y_binary = np.array([1 if i > y_mean else -1 for i in diabetes_y])\n",
        "\n",
        "print(diabetes_y)\n",
        "print(y_binary)"
      ],
      "metadata": {
        "colab": {
          "base_uri": "https://localhost:8080/"
        },
        "id": "j5QImPwXxX_P",
        "outputId": "1f374708-3e22-4d04-fd15-06d160d5a99b"
      },
      "execution_count": null,
      "outputs": [
        {
          "output_type": "stream",
          "name": "stdout",
          "text": [
            "152.13348416289594\n",
            "[151.  75. 141. 206. 135.  97. 138.  63. 110. 310. 101.  69. 179. 185.\n",
            " 118. 171. 166. 144.  97. 168.  68.  49.  68. 245. 184. 202. 137.  85.\n",
            " 131. 283. 129.  59. 341.  87.  65. 102. 265. 276. 252.  90. 100.  55.\n",
            "  61.  92. 259.  53. 190. 142.  75. 142. 155. 225.  59. 104. 182. 128.\n",
            "  52.  37. 170. 170.  61. 144.  52. 128.  71. 163. 150.  97. 160. 178.\n",
            "  48. 270. 202. 111.  85.  42. 170. 200. 252. 113. 143.  51.  52. 210.\n",
            "  65. 141.  55. 134.  42. 111.  98. 164.  48.  96.  90. 162. 150. 279.\n",
            "  92.  83. 128. 102. 302. 198.  95.  53. 134. 144. 232.  81. 104.  59.\n",
            " 246. 297. 258. 229. 275. 281. 179. 200. 200. 173. 180.  84. 121. 161.\n",
            "  99. 109. 115. 268. 274. 158. 107.  83. 103. 272.  85. 280. 336. 281.\n",
            " 118. 317. 235.  60. 174. 259. 178. 128.  96. 126. 288.  88. 292.  71.\n",
            " 197. 186.  25.  84.  96. 195.  53. 217. 172. 131. 214.  59.  70. 220.\n",
            " 268. 152.  47.  74. 295. 101. 151. 127. 237. 225.  81. 151. 107.  64.\n",
            " 138. 185. 265. 101. 137. 143. 141.  79. 292. 178.  91. 116.  86. 122.\n",
            "  72. 129. 142.  90. 158.  39. 196. 222. 277.  99. 196. 202. 155.  77.\n",
            " 191.  70.  73.  49.  65. 263. 248. 296. 214. 185.  78.  93. 252. 150.\n",
            "  77. 208.  77. 108. 160.  53. 220. 154. 259.  90. 246. 124.  67.  72.\n",
            " 257. 262. 275. 177.  71.  47. 187. 125.  78.  51. 258. 215. 303. 243.\n",
            "  91. 150. 310. 153. 346.  63.  89.  50.  39. 103. 308. 116. 145.  74.\n",
            "  45. 115. 264.  87. 202. 127. 182. 241.  66.  94. 283.  64. 102. 200.\n",
            " 265.  94. 230. 181. 156. 233.  60. 219.  80.  68. 332. 248.  84. 200.\n",
            "  55.  85.  89.  31. 129.  83. 275.  65. 198. 236. 253. 124.  44. 172.\n",
            " 114. 142. 109. 180. 144. 163. 147.  97. 220. 190. 109. 191. 122. 230.\n",
            " 242. 248. 249. 192. 131. 237.  78. 135. 244. 199. 270. 164.  72.  96.\n",
            " 306.  91. 214.  95. 216. 263. 178. 113. 200. 139. 139.  88. 148.  88.\n",
            " 243.  71.  77. 109. 272.  60.  54. 221.  90. 311. 281. 182. 321.  58.\n",
            " 262. 206. 233. 242. 123. 167.  63. 197.  71. 168. 140. 217. 121. 235.\n",
            " 245.  40.  52. 104. 132.  88.  69. 219.  72. 201. 110.  51. 277.  63.\n",
            " 118.  69. 273. 258.  43. 198. 242. 232. 175.  93. 168. 275. 293. 281.\n",
            "  72. 140. 189. 181. 209. 136. 261. 113. 131. 174. 257.  55.  84.  42.\n",
            " 146. 212. 233.  91. 111. 152. 120.  67. 310.  94. 183.  66. 173.  72.\n",
            "  49.  64.  48. 178. 104. 132. 220.  57.]\n",
            "[-1 -1 -1  1 -1 -1 -1 -1 -1  1 -1 -1  1  1 -1  1  1 -1 -1  1 -1 -1 -1  1\n",
            "  1  1 -1 -1 -1  1 -1 -1  1 -1 -1 -1  1  1  1 -1 -1 -1 -1 -1  1 -1  1 -1\n",
            " -1 -1  1  1 -1 -1  1 -1 -1 -1  1  1 -1 -1 -1 -1 -1  1 -1 -1  1  1 -1  1\n",
            "  1 -1 -1 -1  1  1  1 -1 -1 -1 -1  1 -1 -1 -1 -1 -1 -1 -1  1 -1 -1 -1  1\n",
            " -1  1 -1 -1 -1 -1  1  1 -1 -1 -1 -1  1 -1 -1 -1  1  1  1  1  1  1  1  1\n",
            "  1  1  1 -1 -1  1 -1 -1 -1  1  1  1 -1 -1 -1  1 -1  1  1  1 -1  1  1 -1\n",
            "  1  1  1 -1 -1 -1  1 -1  1 -1  1  1 -1 -1 -1  1 -1  1  1 -1  1 -1 -1  1\n",
            "  1 -1 -1 -1  1 -1 -1 -1  1  1 -1 -1 -1 -1 -1  1  1 -1 -1 -1 -1 -1  1  1\n",
            " -1 -1 -1 -1 -1 -1 -1 -1  1 -1  1  1  1 -1  1  1  1 -1  1 -1 -1 -1 -1  1\n",
            "  1  1  1  1 -1 -1  1 -1 -1  1 -1 -1  1 -1  1  1  1 -1  1 -1 -1 -1  1  1\n",
            "  1  1 -1 -1  1 -1 -1 -1  1  1  1  1 -1 -1  1  1  1 -1 -1 -1 -1 -1  1 -1\n",
            " -1 -1 -1 -1  1 -1  1 -1  1  1 -1 -1  1 -1 -1  1  1 -1  1  1  1  1 -1  1\n",
            " -1 -1  1  1 -1  1 -1 -1 -1 -1 -1 -1  1 -1  1  1  1 -1 -1  1 -1 -1 -1  1\n",
            " -1  1 -1 -1  1  1 -1  1 -1  1  1  1  1  1 -1  1 -1 -1  1  1  1  1 -1 -1\n",
            "  1 -1  1 -1  1  1  1 -1  1 -1 -1 -1 -1 -1  1 -1 -1 -1  1 -1 -1  1 -1  1\n",
            "  1  1  1 -1  1  1  1  1 -1  1 -1  1 -1  1 -1  1 -1  1  1 -1 -1 -1 -1 -1\n",
            " -1  1 -1  1 -1 -1  1 -1 -1 -1  1  1 -1  1  1  1  1 -1  1  1  1  1 -1 -1\n",
            "  1  1  1 -1  1 -1 -1  1  1 -1 -1 -1 -1  1  1 -1 -1 -1 -1 -1  1 -1  1 -1\n",
            "  1 -1 -1 -1 -1  1 -1 -1  1 -1]\n"
          ]
        }
      ]
    },
    {
      "cell_type": "markdown",
      "source": [
        "\n",
        "\n",
        "- Perform the 6:2:2 split of the dataset (training set, validation set, test set). Store the training set in `X_train` and `y_train`. Tip: you may find `train_test_split` ([link](https://scikit-learn.org/stable/modules/generated/sklearn.model_selection.train_test_split.html)) useful. "
      ],
      "metadata": {
        "id": "ZFrKTk2d0dQ3"
      }
    },
    {
      "cell_type": "code",
      "source": [
        "\"\"\"\n",
        "partition data into training set, validation set, and test set\n",
        "\"\"\"\n",
        "# Split train to 60% and temp to 40%\n",
        "X_train, X_temp, y_train, y_temp = train_test_split(diabetes_X, y_binary, test_size=0.4, shuffle=True, random_state=42)\n",
        "\n",
        "# Split temp further 50% to test and 50% to validation. We end up with 60% train, 20% val and 20% test\n",
        "X_val, X_test, y_val, y_test = train_test_split(X_temp, y_temp, test_size=0.5, shuffle=True, random_state=42)\n",
        "\n",
        "\n",
        "print(X_train.shape)\n",
        "print(X_val.shape)\n",
        "print(X_test.shape)\n",
        "print(y_train.shape)\n",
        "print(y_val.shape)\n",
        "print(y_test.shape)"
      ],
      "metadata": {
        "colab": {
          "base_uri": "https://localhost:8080/"
        },
        "id": "ZF9BKpNxzTu6",
        "outputId": "37ac6665-2e11-42a3-9dc2-95cb8523273d"
      },
      "execution_count": null,
      "outputs": [
        {
          "output_type": "stream",
          "name": "stdout",
          "text": [
            "(265, 10)\n",
            "(88, 10)\n",
            "(89, 10)\n",
            "(265,)\n",
            "(88,)\n",
            "(89,)\n"
          ]
        }
      ]
    },
    {
      "cell_type": "markdown",
      "source": [
        "\n",
        "- Train a linear classifier on the dataset using the built-in functions provided by `sklearn` as follows.\n",
        "\n",
        "\n",
        "                    from sklearn.linear_model import SGDClassifier\n",
        "                    clf = SGDClassifier(random_state=42)\n",
        "                    clf.fit(X_train, y_train)\n",
        "\n",
        "\n",
        "- The coefficients $\\theta$ and intercept $\\theta_0$ can be accessed as `clf.coef_` and `clf.intercept_`, respectively. Please check the dimensions of `clf.coef_` and `clf.intercept_`.\n"
      ],
      "metadata": {
        "id": "MVjc_L1CzZNn"
      }
    },
    {
      "cell_type": "code",
      "source": [
        "\"\"\"\n",
        "train a linear classifier\n",
        "\"\"\"\n",
        "clf = SGDClassifier(random_state=42)\n",
        "clf.fit(X_train, y_train)\n",
        "\n",
        "coef = clf.coef_\n",
        "intercept = clf.intercept_\n",
        "\n",
        "print(coef.shape)\n",
        "print(intercept.shape)"
      ],
      "metadata": {
        "colab": {
          "base_uri": "https://localhost:8080/"
        },
        "id": "LRV4-WzTzYqv",
        "outputId": "a1277b8d-6b9f-4e05-afd0-70739db7381f"
      },
      "execution_count": null,
      "outputs": [
        {
          "output_type": "stream",
          "name": "stdout",
          "text": [
            "(1, 10)\n",
            "(1,)\n"
          ]
        }
      ]
    },
    {
      "cell_type": "markdown",
      "source": [
        "\n",
        "Next, let's implement two utility functions below. You may want to take a look at matrix-multiplications using numpy ([link](https://numpy.org/doc/stable/reference/generated/numpy.matmul.html)).\n",
        "\n",
        "                    def compute_prediction(X, coef, intercept):\n",
        "                      # Returns predictions as a 1-D array\n",
        "                      ##### YOUR CODE HERE #####\n",
        "                      return result\n",
        "\n",
        "                    def compute_accuracy(pred, actual):\n",
        "                      # Returns the prediction accuracy in percentage\n",
        "                        ##### YOUR CODE HERE #####\n",
        "                        return accuracy"
      ],
      "metadata": {
        "id": "x8VEclxO0P_T"
      }
    },
    {
      "cell_type": "code",
      "source": [
        "\"\"\"\n",
        "utility functions\n",
        "\"\"\"\n",
        "def compute_prediction(X, coef, intercept):\n",
        "    # compute the numeric values as the result of the prediction\n",
        "    result = np.matmul(X, coef.T) + intercept\n",
        "\n",
        "    # make the prediction results binary according to the decision boundary\n",
        "    result[result > 0] = 1\n",
        "    result[result <= 0] = -1\n",
        "\n",
        "    # make the result 1d array\n",
        "    result = result.reshape(-1)\n",
        "    return result\n",
        "\n",
        "\n",
        "def compute_accuracy(pred, actual):\n",
        "    agreement = (pred == actual)\n",
        "    accuracy = np.sum(agreement) / pred.shape[0]\n",
        "    return accuracy"
      ],
      "metadata": {
        "id": "N86idtus0obu"
      },
      "execution_count": null,
      "outputs": []
    },
    {
      "cell_type": "markdown",
      "source": [
        "- Use `compute_prediction` that you just wrote to obtain predictions on the training set, validation set, and test set, respectively. Check the shapes of the predictions.\n",
        "\n",
        "                    # Compute predictions manually\n",
        "                    pred_train = compute_prediction(X_train, coef, intercept)\n",
        "                    pred_val = compute_prediction(X_val, coef, intercept)\n",
        "                    pred_test = compute_prediction(X_test, coef, intercept)\n",
        "\n",
        "                    print(pred_train.shape, pred_val.shape, pred_test.shape)\n",
        "                    \n",
        "\n"
      ],
      "metadata": {
        "id": "vJ3k8TWk3PNG"
      }
    },
    {
      "cell_type": "code",
      "source": [
        "# Compute predictions manually\n",
        "pred_train = compute_prediction(X_train, coef, intercept)\n",
        "pred_val = compute_prediction(X_val, coef, intercept)\n",
        "pred_test = compute_prediction(X_test, coef, intercept)\n",
        "\n",
        "print(pred_train.shape, pred_val.shape, pred_test.shape)"
      ],
      "metadata": {
        "colab": {
          "base_uri": "https://localhost:8080/"
        },
        "id": "Mv8M6xap4N70",
        "outputId": "c2f1642c-b026-491f-83fe-b24ff7ca0f47"
      },
      "execution_count": null,
      "outputs": [
        {
          "output_type": "stream",
          "name": "stdout",
          "text": [
            "(265,) (88,) (89,)\n"
          ]
        }
      ]
    },
    {
      "cell_type": "markdown",
      "source": [
        "- Use `compute_accuracy` that you just wrote to obtain accuracies on the predictions made on the training set, validation set, and test set, respectively. \n",
        "\n",
        "                    # Accuracies on predictions\n",
        "                    acc_train = compute_accuracy(pred_train,y_train)\n",
        "                    acc_val = compute_accuracy(pred_val,y_val)\n",
        "                    acc_test = compute_accuracy(pred_test,y_test)\n",
        "\n",
        "                    print(f\"Accuracies from the functions we wrote:\\n {acc_train}, {acc_val}, {acc_test}\")\n",
        "\n"
      ],
      "metadata": {
        "id": "z5HSm03FzenM"
      }
    },
    {
      "cell_type": "code",
      "source": [
        "# Accuracies on predictions made\n",
        "acc_train = compute_accuracy(pred_train,y_train)\n",
        "acc_val = compute_accuracy(pred_val,y_val)\n",
        "acc_test = compute_accuracy(pred_test,y_test)\n",
        "\n",
        "print(f\"Accuracies from the functions we wrote:\\n {acc_train}, {acc_val}, {acc_test}\")"
      ],
      "metadata": {
        "colab": {
          "base_uri": "https://localhost:8080/"
        },
        "id": "CiIRJYpU4OYd",
        "outputId": "255de824-d66b-4368-dafd-1250cbe2539f"
      },
      "execution_count": null,
      "outputs": [
        {
          "output_type": "stream",
          "name": "stdout",
          "text": [
            "Accuracies from the functions we wrote:\n",
            " 0.7622641509433963, 0.7840909090909091, 0.7303370786516854\n"
          ]
        }
      ]
    },
    {
      "cell_type": "markdown",
      "source": [
        "- For the training set, validation set, and test set, use the built-in functions `clf.predict()` and `clf.score()` of the classifier to make predictions and obtain accuracies. Are the results the same?\n",
        "\n",
        "                    # Scores (accuracy be default) on the predictions\n",
        "                    acc_train_clf = clf.score(X_train,y_train)\n",
        "                    acc_val_clf = clf.score(X_val,y_val)\n",
        "                    acc_test_clf = clf.score(X_test,y_test)\n",
        "\n",
        "                    print(f\"Accuracies from the built in function:\\n {acc_train_clf}, {acc_val_clf}, {acc_test_clf}\")"
      ],
      "metadata": {
        "id": "WM8Clv9g36wl"
      }
    },
    {
      "cell_type": "code",
      "source": [
        "\"\"\"\n",
        "compute and accuracy using built in function\n",
        "\"\"\"\n",
        "\n",
        "# Scores (accuracy be default) on the predictions\n",
        "acc_train_clf = clf.score(X_train,y_train)\n",
        "acc_val_clf = clf.score(X_val,y_val)\n",
        "acc_test_clf = clf.score(X_test,y_test)\n",
        "\n",
        "print(f\"Accuracies from the built in function:\\n {acc_train_clf}, {acc_val_clf}, {acc_test_clf}\")"
      ],
      "metadata": {
        "colab": {
          "base_uri": "https://localhost:8080/"
        },
        "id": "PU3P6QO312hN",
        "outputId": "b364d0c2-45ab-43bb-e336-d0d7b91953d0"
      },
      "execution_count": null,
      "outputs": [
        {
          "output_type": "stream",
          "name": "stdout",
          "text": [
            "Accuracies from the built in function:\n",
            " 0.7622641509433963, 0.7840909090909091, 0.7303370786516854\n"
          ]
        }
      ]
    },
    {
      "cell_type": "markdown",
      "source": [
        "---\n",
        "## Exercise 2. Linear Regression\n",
        "For this exercise, we are going to write a gradient-based method to solve a linear regression task. \n",
        "\n",
        "\n",
        "First, let's import the necessary packages. \n",
        "\n",
        "                    from sklearn.datasets import make_regression\n",
        "                    import matplotlib.pyplot as plt\n",
        "\n",
        "Use the following code to generate and inspect the data.\n",
        "\n",
        "                    X, y = make_regression(n_samples=100, n_features=1, noise=10, random_state=42)\n",
        "\n",
        "                    fig, ax = plt.subplots(figsize = (10,6), dpi = 80)\n",
        "                    ax.set_xlabel('X')\n",
        "                    ax.set_ylabel('y')\n",
        "                    ax.scatter(X,y,label=\"training data\")\n",
        "                    ax.legend()"
      ],
      "metadata": {
        "id": "itDdvabI3QGi"
      }
    },
    {
      "cell_type": "code",
      "source": [
        "from sklearn.datasets import make_regression\n",
        "import matplotlib.pyplot as plt"
      ],
      "metadata": {
        "id": "Qgmgofj-3TN1"
      },
      "execution_count": null,
      "outputs": []
    },
    {
      "cell_type": "code",
      "source": [
        "\"\"\" \n",
        "generate a dataset\n",
        "\"\"\"\n",
        "\n",
        "X, y = make_regression(n_samples=100, n_features=1, noise=10, random_state=42)\n",
        "\n",
        "fig, ax = plt.subplots(figsize = (10,6), dpi = 80)\n",
        "ax.set_xlabel('X')\n",
        "ax.set_ylabel('y')\n",
        "ax.scatter(X,y,label=\"training data\")\n",
        "ax.legend()"
      ],
      "metadata": {
        "colab": {
          "base_uri": "https://localhost:8080/",
          "height": 445
        },
        "id": "LApmL6TMuarr",
        "outputId": "e6273ce0-7406-4ac9-969e-d9629dbc317e"
      },
      "execution_count": null,
      "outputs": [
        {
          "output_type": "execute_result",
          "data": {
            "text/plain": [
              "<matplotlib.legend.Legend at 0x7f966ff2e750>"
            ]
          },
          "metadata": {},
          "execution_count": 11
        },
        {
          "output_type": "display_data",
          "data": {
            "image/png": "[encoded data removed]",
            "text/plain": [
              "<Figure size 800x480 with 1 Axes>"
            ]
          },
          "metadata": {
            "needs_background": "light"
          }
        }
      ]
    },
    {
      "cell_type": "markdown",
      "source": [
        "\n",
        "Next, please implement the following two functions. The pseudocode is shown below.\n",
        "\n",
        "![pseudo](https://user-images.githubusercontent.com/96804013/152409472-fe7a981f-eec9-471e-b684-bc028dd4c872.png)\n",
        "\n",
        "\n",
        "                    def gradient_descent(X, y, init_slope, init_intercept, learning_rate, num_iter)\n",
        "                      # The main gradient descent function\n",
        "                      ##### YOUR CODE HERE ####\n",
        "                      return new_slope, new_intercept\n",
        "\n",
        "                    def gradient_one_step(X, y, slope, intercept, learning_rate):\n",
        "                      # Function for taking one gradient step\n",
        "                      ##### YOUR CODE HERE ####\n",
        "                      return slope, intercept\n",
        "\n",
        "\n"
      ],
      "metadata": {
        "id": "7B6rzAZ_7rRz"
      }
    },
    {
      "cell_type": "code",
      "source": [
        "\"\"\" \n",
        "function to perform gradient descent for one step\n",
        "\"\"\"\n",
        "def gradient_one_step(X, y, slope, intercept, learning_rate):\n",
        "    slope_gradient = 0\n",
        "    intercept_gradient = 0\n",
        "    N = len(y)\n",
        "\n",
        "    for i in range(N):\n",
        "        # Take a step in the direction of the gradient \n",
        "        slope_gradient += -(1 / N) * X[i] * (y[i] - (slope * X[i] + intercept))\n",
        "        intercept_gradient += -(1 / N) * (y[i] - (slope * X[i] + intercept))\n",
        "\n",
        "    new_slope = slope - (learning_rate * slope_gradient)\n",
        "    new_intercept = intercept - (learning_rate * intercept_gradient)\n",
        "\n",
        "    return new_slope, new_intercept"
      ],
      "metadata": {
        "id": "9a39lp023Wzt"
      },
      "execution_count": null,
      "outputs": []
    },
    {
      "cell_type": "code",
      "source": [
        "\"\"\" \n",
        "function to implement the gradient descent algorithm\n",
        "\"\"\"\n",
        "def gradient_descent(X, y, init_slope, init_intercept, learning_rate, num_iter):\n",
        "\tslope = init_slope\n",
        "\tintercept = init_intercept\n",
        "\n",
        "\tfor i in range(num_iter):\n",
        "\t\tslope, intercept = gradient_one_step(X, y, slope, intercept, learning_rate)\n",
        "\t\n",
        "\treturn slope, intercept"
      ],
      "metadata": {
        "id": "_5WvYm3b3Yd8"
      },
      "execution_count": null,
      "outputs": []
    },
    {
      "cell_type": "markdown",
      "source": [
        "\n",
        "The other parameters of the learning procedure can be set as follows.\n",
        "\n",
        "                    learning_rate = 0.01 # Learning rate\n",
        "                    init_slope = 0 # Initial slope\n",
        "                    init_intercept = 0 # Initial intercept\n",
        "                    num_iter = 1000 # Number of iterations\n",
        "\n",
        "Finally, using the learnt slope and intercept, you can plot the trained/learnt linear model (i.e., the fitted line) using the following code. \n",
        "\n",
        "                    slope, intercept = gradient_descent(X, y, init_slope, init_intercept, learning_rate, num_iter)\n",
        "\n",
        "                    ### Plot the data\n",
        "                    fig, ax = plt.subplots(figsize=(10,6), dpi = 80)\n",
        "                    ax.scatter(X,y,label=\"training data\")\n",
        "                    ax.set_xlabel('X')\n",
        "                    ax.set_ylabel('y')\n",
        "\n",
        "                    ### Plot the learnt linear model\n",
        "                    ax.plot(X, slope*X + intercept, color=\"red\", label=\"fitted line\")\n",
        "                    ax.legend()\n",
        "\n"
      ],
      "metadata": {
        "id": "XnSFptdl7zAY"
      }
    },
    {
      "cell_type": "code",
      "source": [
        "\"\"\" \n",
        "set initial parameters\n",
        "\"\"\"\n",
        "learning_rate = 0.01\n",
        "init_slope = 0\n",
        "init_intercept = 0\n",
        "num_iter = 1000\n",
        "\n",
        "\"\"\" \n",
        "run the gradient descent algorithm and check the results\n",
        "\"\"\"\n",
        "slope, intercept = gradient_descent(X, y, init_slope, init_intercept, learning_rate, num_iter)\n",
        "\n",
        "### Plot the generated data again\n",
        "fig, ax = plt.subplots(figsize=(10,6), dpi = 80)\n",
        "ax.scatter(X,y,label=\"training data\")\n",
        "ax.set_xlabel('X')\n",
        "ax.set_ylabel('y')\n",
        "\n",
        "### Plot the model learned to see how well it fit the data\n",
        "ax.plot(X, slope*X + intercept, color=\"red\", label=\"fitted line\")\n",
        "ax.legend()"
      ],
      "metadata": {
        "id": "G2fEclmT3cBk",
        "colab": {
          "base_uri": "https://localhost:8080/",
          "height": 445
        },
        "outputId": "2ecb6d79-b219-4f33-9a76-37901bc09084"
      },
      "execution_count": null,
      "outputs": [
        {
          "output_type": "execute_result",
          "data": {
            "text/plain": [
              "<matplotlib.legend.Legend at 0x7f966fe6a150>"
            ]
          },
          "metadata": {},
          "execution_count": 14
        },
        {
          "output_type": "display_data",
          "data": {
            "image/png": "[encoded data removed]",
            "text/plain": [
              "<Figure size 800x480 with 1 Axes>"
            ]
          },
          "metadata": {
            "needs_background": "light"
          }
        }
      ]
    },
    {
      "cell_type": "code",
      "source": [],
      "metadata": {
        "id": "OcuA_UIk3fHA"
      },
      "execution_count": null,
      "outputs": []
    }
  ]
}