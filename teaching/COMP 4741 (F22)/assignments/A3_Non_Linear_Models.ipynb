{
  "nbformat": 4,
  "nbformat_minor": 0,
  "metadata": {
    "colab": {
      "provenance": [],
      "collapsed_sections": []
    },
    "kernelspec": {
      "name": "python3",
      "display_name": "Python 3"
    },
    "language_info": {
      "name": "python"
    }
  },
  "cells": [
    {
      "cell_type": "markdown",
      "source": [
        "# Assignment 3: Non-Linear Models\n",
        "----\n",
        "\n",
        "In this assignment, we will create and evaluate non-linear models for binary classification. Let's first import some packages.\n",
        "\n",
        "                    from sklearn.datasets import make_regression, make_circles\n",
        "                    from matplotlib import pyplot as plt\n",
        "                    from sklearn.model_selection import train_test_split\n",
        "                    from sklearn.svm import SVC\n",
        "                    import numpy as np"
      ],
      "metadata": {
        "id": "G0ej1Nhq6J4l"
      }
    },
    {
      "cell_type": "markdown",
      "source": [
        "Next, please finish the following steps.\n",
        "\n",
        "- Generate circular data (100 examples) in two classes using `make_circles` ([link](https://scikit-learn.org/stable/modules/generated/sklearn.datasets.make_circles.html)). Please save the generated data to `X` and `y`.\n",
        "- Use `np.where()` to obtain the indices of positive examples (`y==1`) and negative example (`y==0`).                  \n",
        "- Visualize the positive examples and the negaitive examples by assigning them different markers/colors. \n",
        "- Split the data into 80% for training and 20% for testing. Save the data using the following variables: `X_train`, `X_test`, `y_train`, `y_test`.\n",
        "- Use `SVC` ([link](https://scikit-learn.org/stable/modules/generated/sklearn.svm.SVC.html)) to create three classifiers with `linear`, `polynomial`, and `RBF` kernels, (named `model_linear`, `model_poly`, `model_rbf`), respectively.\n",
        "- Train these classifiers using `fit()`.\n",
        "- Test the trained classifiers and compare their performances with the following code. What did you find? \n",
        "                    print(model_rbf.score(X_test, y_test))\n",
        "                    print(model_linear.score(X_test, y_test))\n",
        "                    print(model_poly.score(X_test, y_test))\n",
        "\n"
      ],
      "metadata": {
        "id": "9YEGJRxyISg2"
      }
    },
    {
      "cell_type": "code",
      "source": [],
      "metadata": {
        "id": "cjOVEQudKj8j"
      },
      "execution_count": null,
      "outputs": []
    }
  ]
}