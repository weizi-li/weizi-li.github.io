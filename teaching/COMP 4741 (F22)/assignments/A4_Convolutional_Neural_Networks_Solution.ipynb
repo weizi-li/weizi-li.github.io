{
  "nbformat": 4,
  "nbformat_minor": 0,
  "metadata": {
    "colab": {
      "provenance": [],
      "collapsed_sections": []
    },
    "kernelspec": {
      "name": "python3",
      "display_name": "Python 3"
    },
    "language_info": {
      "name": "python"
    }
  },
  "cells": [
    {
      "cell_type": "markdown",
      "source": [
        "# Assignment 4: Convolutional Neural Networks (Solution)\n",
        "---\n",
        "\n",
        "In this assignment, we will use the MNIST dataset\n",
        "([link](https://en.wikipedia.org/wiki/MNIST_database)) that contains images of hand-written digits from 0 to 9. \n",
        "\n",
        "You will need several libraries and built-in functions. Make sure you can compile the following code before proceeding.\n",
        "\n",
        "                    import numpy as np\n",
        "                    import matplotlib.pyplot as plt \n",
        "                    from tensorflow import keras\n",
        "                    from keras.datasets import mnist \n",
        "                    from keras.models import Sequential\n",
        "                    from keras.layers import Dense, Dropout, Flatten\n",
        "                    from keras.layers import Conv2D, MaxPooling2D"
      ],
      "metadata": {
        "id": "lqztjsWOeX5z"
      }
    },
    {
      "cell_type": "code",
      "execution_count": null,
      "metadata": {
        "id": "CoWQO3ymYecE"
      },
      "outputs": [],
      "source": [
        "import numpy as np\n",
        "import matplotlib.pyplot as plt \n",
        "from tensorflow import keras\n",
        "from keras.datasets import mnist \n",
        "from keras.models import Sequential\n",
        "from keras.layers import Dense, Dropout, Flatten\n",
        "from keras.layers import Conv2D, MaxPooling2D"
      ]
    },
    {
      "cell_type": "markdown",
      "source": [
        "## Exercises\n",
        "\n",
        "Let's first load and examine the dataset.\n",
        "\n",
        "- Use `mnist.load_data()` to load the data ([link](https://keras.io/api/datasets/mnist/)). This function will automatically split the dataset into training set and test set. Store them in `x_train`, `y_train`, `x_test`, and `y_test`; and check the dimensions of these variables.  \n",
        "- Create other necessary variables and set their values: `epochs` to 1, `num_classes` to 10 (since we have 0 to 9, in total 10 digits), and `batch_size` to 128. \n",
        "- Use the following code to set up `input_shape` for later use.\n",
        "\n",
        "                    ### specify the input image dimensions\n",
        "                    img_rows, img_cols = 28, 28\n",
        "\n",
        "                    ### specify the input_shape\n",
        "                    x_train = x_train.reshape(x_train.shape[0], img_rows, img_cols, 1)\n",
        "                    x_test = x_test.reshape(x_test.shape[0], img_rows, img_cols, 1)\n",
        "                    input_shape = (img_rows, img_cols, 1)\n",
        "                    print(input_shape)"
      ],
      "metadata": {
        "id": "UafbPsQZfSil"
      }
    },
    {
      "cell_type": "code",
      "source": [
        "### load the MNIST dataset\n",
        "(x_train, y_train), (x_test, y_test) = mnist.load_data()\n",
        "\n",
        "### print the dimensions\n",
        "print(f\"\\nx_train shape = {x_train.shape}\")\n",
        "print(f\"x_test shape  = {x_test.shape}\")\n",
        "print(f\"y_train shape = {y_train.shape}\")\n",
        "print(f\"y_test shape  = {y_test.shape}\\n\")\n",
        "\n",
        "### set other necessary variables\n",
        "batch_size = 128\n",
        "num_classes = 10\n",
        "epochs = 1"
      ],
      "metadata": {
        "colab": {
          "base_uri": "https://localhost:8080/"
        },
        "id": "wT5zwhVqf8h8",
        "outputId": "56ef3374-fdc4-47c7-8da5-5a4b3c17d57a"
      },
      "execution_count": null,
      "outputs": [
        {
          "output_type": "stream",
          "name": "stdout",
          "text": [
            "\n",
            "x_train shape = (60000, 28, 28)\n",
            "x_test shape  = (10000, 28, 28)\n",
            "y_train shape = (60000,)\n",
            "y_test shape  = (10000,)\n",
            "\n"
          ]
        }
      ]
    },
    {
      "cell_type": "code",
      "source": [
        "### specify input image dimensions\n",
        "img_rows, img_cols = 28, 28\n",
        "\n",
        "### specify the input_shape\n",
        "x_train = x_train.reshape(x_train.shape[0], img_rows, img_cols, 1)\n",
        "x_test = x_test.reshape(x_test.shape[0], img_rows, img_cols, 1)\n",
        "input_shape = (img_rows, img_cols, 1)\n",
        "print(input_shape)"
      ],
      "metadata": {
        "id": "9DBYhYTDg-lL",
        "colab": {
          "base_uri": "https://localhost:8080/"
        },
        "outputId": "de5befc4-b835-41ab-f379-f3e2dc6283ee"
      },
      "execution_count": null,
      "outputs": [
        {
          "output_type": "stream",
          "name": "stdout",
          "text": [
            "(28, 28, 1)\n"
          ]
        }
      ]
    },
    {
      "cell_type": "markdown",
      "source": [
        "- Use the following code to visualize sample images in the training set.\n",
        "\n",
        "                    fig, ax = plt.subplots(4,4,figsize = (10,11), dpi = 80)\n",
        "                    for i, ax in enumerate(fig.axes):\n",
        "                      ax.imshow(np.squeeze(x_train[i]), cmap='gray_r')\n",
        "                      ax.set_title(f\"label = {y_train[i]}\")\n",
        "<p align=\"center\">\n",
        "  <img src=\"https://user-images.githubusercontent.com/96804013/152453628-73ee57dd-dbf3-4846-92de-2eb93f750d49.jpg\")\n",
        "\"/>\n",
        "\n",
        "</p>\n",
        "\n",
        "<p align=\"center\">\n",
        "  <em>Figure 1: Visual inspection of the MNIST digits dataset</em>\n",
        "</p>\n",
        "\n",
        "\n",
        "\n",
        "- Normalize `x_train` and `x_test` (i.e., the pixel values) to the range [0, 1].\n",
        "- Convert `y_train` and `y_test` to a matrix of binary values. You may find the built-in function `keras.utils.to_categorical` useful."
      ],
      "metadata": {
        "id": "2lk9AU0ZgKfM"
      }
    },
    {
      "cell_type": "code",
      "source": [
        "### visualize sample images\n",
        "fig, ax = plt.subplots(4,4,figsize = (10,11), dpi = 80)\n",
        "for i, ax in enumerate(fig.axes):\n",
        "  ax.imshow(np.squeeze(x_train[i]), cmap='gray')\n",
        "  ax.set_title(f\"label = {y_train[i]}\")\n",
        "\n",
        "### normalize the input\n",
        "x_train = x_train.astype('float32') # Copy of the array, cast to a specified type.\n",
        "x_test = x_test.astype('float32')\n",
        "x_train /= 255\n",
        "x_test /= 255\n",
        "\n",
        "### convert class vectors to binary matrices\n",
        "y_train = keras.utils.to_categorical(y_train, num_classes)\n",
        "y_test = keras.utils.to_categorical(y_test, num_classes)"
      ],
      "metadata": {
        "colab": {
          "base_uri": "https://localhost:8080/",
          "height": 722
        },
        "id": "TsFFLtmbjx-a",
        "outputId": "6cd55183-99b8-42e9-f486-05ab909aa07e"
      },
      "execution_count": null,
      "outputs": [
        {
          "output_type": "display_data",
          "data": {
            "image/png": "[encoded data removed]",
            "text/plain": [
              "<Figure size 800x880 with 16 Axes>"
            ]
          },
          "metadata": {
            "needs_background": "light"
          }
        }
      ]
    },
    {
      "cell_type": "markdown",
      "source": [
        "Now, we have finished processing the dataset. Next, let's build a CNN\n",
        "\n",
        "- Initialize a Sequential model with following code. \n",
        "\n",
        "                  model = Sequential()\n",
        "\n",
        "- Use `model.add()` to build a CNN with the following architecture.\n",
        "\n",
        "  - 1st layer: convolutional layer with `32` filters, kernel size `3` by `3`, activation function ReLU.\n",
        "  - 2nd layer: convolutional layer with `64` filters, kernel size `3` by `3`, activation function ReLU.\n",
        "  - 3rd layer: pooling layer with max pooling and pooling size `2` by `2`.\n",
        "  - Add dropout with the ratio `0.25`.\n",
        "  - 4th layer: flatten layer.\n",
        "  - 5th layer: dense layer with `128` nodes and activation function ReLU.\n",
        "  - Add dropout with the ratio `0.25`.\n",
        "  - 6th layer (final layer): dense layer with the number of classes and activation function Softmax.\n",
        "\n",
        "- Use `model.summary()` to check the built CNN.\n",
        "\n",
        "- References: Conv2D ([link](https://keras.io/api/layers/convolution_layers/convolution2d/)), Dense ([link](https://keras.io/api/layers/core_layers/dense/)), Flatten ([link](https://keras.io/api/layers/reshaping_layers/flatten/)), Dropout ([link](https://keras.io/api/layers/regularization_layers/dropout/))\n",
        "\n",
        "\n"
      ],
      "metadata": {
        "id": "FFlD8Qu4j0QB"
      }
    },
    {
      "cell_type": "code",
      "source": [
        "\"\"\"\n",
        "design the architecture of a model\n",
        "\"\"\"\n",
        "model = Sequential()\n",
        "\n",
        "model.add(Conv2D(filters=32,\n",
        "                  kernel_size=(3, 3),  \n",
        "                  activation='relu',\n",
        "                  input_shape=input_shape))  \n",
        "model.add(Conv2D(64, (3, 3), activation='relu'))\n",
        "model.add(MaxPooling2D(pool_size=(2, 2)))\n",
        "model.add(Dropout(0.25))\n",
        "model.add(Flatten())\n",
        "model.add(Dense(128, activation='relu'))\n",
        "model.add(Dropout(0.25))\n",
        "model.add(Dense(num_classes, activation='softmax'))\n",
        "\n",
        "# print model summary\n",
        "model.summary()"
      ],
      "metadata": {
        "id": "qOTqRUg2Y0Jv",
        "colab": {
          "base_uri": "https://localhost:8080/"
        },
        "outputId": "acb82377-ca70-4b40-ccb9-bbec762f8866"
      },
      "execution_count": null,
      "outputs": [
        {
          "output_type": "stream",
          "name": "stdout",
          "text": [
            "Model: \"sequential\"\n",
            "_________________________________________________________________\n",
            " Layer (type)                Output Shape              Param #   \n",
            "=================================================================\n",
            " conv2d (Conv2D)             (None, 26, 26, 32)        320       \n",
            "                                                                 \n",
            " conv2d_1 (Conv2D)           (None, 24, 24, 64)        18496     \n",
            "                                                                 \n",
            " max_pooling2d (MaxPooling2D  (None, 12, 12, 64)       0         \n",
            " )                                                               \n",
            "                                                                 \n",
            " dropout (Dropout)           (None, 12, 12, 64)        0         \n",
            "                                                                 \n",
            " flatten (Flatten)           (None, 9216)              0         \n",
            "                                                                 \n",
            " dense (Dense)               (None, 128)               1179776   \n",
            "                                                                 \n",
            " dropout_1 (Dropout)         (None, 128)               0         \n",
            "                                                                 \n",
            " dense_1 (Dense)             (None, 10)                1290      \n",
            "                                                                 \n",
            "=================================================================\n",
            "Total params: 1,199,882\n",
            "Trainable params: 1,199,882\n",
            "Non-trainable params: 0\n",
            "_________________________________________________________________\n"
          ]
        }
      ]
    },
    {
      "cell_type": "markdown",
      "source": [
        "Let's train the CNN we just built.\n",
        "\n",
        "- Compile the model by setting\n",
        "  - `loss` to `keras.losses.categorical_crossentropy` \n",
        "  - `optimizer` to `keras.optimizers.Adam()` \n",
        "  - `metrices` to `[`'`accuracy`'`]`\n",
        "\n",
        "- Train the model and report the results. See docs ([link](https://keras.io/api/models/model_training_apis/)) for references on `compile` and `fit` methods."
      ],
      "metadata": {
        "id": "AJP0-_Orke6h"
      }
    },
    {
      "cell_type": "code",
      "source": [
        "\"\"\"\n",
        "model training \n",
        "\"\"\"\n",
        "model.compile(loss=keras.losses.categorical_crossentropy,  \n",
        "              optimizer=keras.optimizers.Adam(),  \n",
        "              metrics=['accuracy'])\n",
        "\n",
        "model.fit(x_train, y_train,\n",
        "          batch_size=batch_size,\n",
        "          epochs=epochs,\n",
        "          verbose=1,\n",
        "          validation_data=(x_test, y_test))\n",
        "\n",
        "score = model.evaluate(x_test, y_test, verbose=0)\n",
        "\n",
        "print('Test accuracy:', score[1])"
      ],
      "metadata": {
        "id": "y5Ckf1LdZi-p",
        "colab": {
          "base_uri": "https://localhost:8080/"
        },
        "outputId": "52cae0f0-4b6d-4cd4-a291-7dd1f0580065"
      },
      "execution_count": null,
      "outputs": [
        {
          "output_type": "stream",
          "name": "stdout",
          "text": [
            "469/469 [==============================] - 154s 324ms/step - loss: 0.1872 - accuracy: 0.9428 - val_loss: 0.0453 - val_accuracy: 0.9842\n",
            "Test accuracy: 0.9842000007629395\n"
          ]
        }
      ]
    },
    {
      "cell_type": "markdown",
      "source": [
        "Now, you have trained your first CNN. Congratulations! Usually, you'd want to save your trained model for future use. Or you may want to use a trained model from others. So, knowing how to save a model and load a model are very important skills.\n",
        "\n",
        "- Could you try to save the above trained model trained and load it again to test the test set again?\n",
        "- Model load and save reference ([link](https://www.tensorflow.org/guide/keras/save_and_serialize))"
      ],
      "metadata": {
        "id": "kbvF3hCzlQxI"
      }
    },
    {
      "cell_type": "code",
      "source": [
        "\"\"\"\n",
        "save the trained model for future use\n",
        "Load it and test\n",
        "\"\"\"\n",
        "model.save(\"my_model\")\n",
        "\n",
        "### load a model\n",
        "loaded_model = keras.models.load_model(\"my_model\")\n",
        "\n",
        "### apply the model\n",
        "score = loaded_model.evaluate(x_test, y_test, verbose=0)\n",
        "print(f\"Test accuracy: = {round(100*score[1],2)}%\")"
      ],
      "metadata": {
        "id": "WZJHL8MqbNm0",
        "colab": {
          "base_uri": "https://localhost:8080/"
        },
        "outputId": "8700b92c-a0e8-4fe4-8664-ede6e9017db9"
      },
      "execution_count": null,
      "outputs": [
        {
          "output_type": "stream",
          "name": "stdout",
          "text": [
            "INFO:tensorflow:Assets written to: my_model/assets\n",
            "Test accuracy: = 98.42%\n"
          ]
        }
      ]
    },
    {
      "cell_type": "code",
      "source": [],
      "metadata": {
        "id": "sIhfF3fw9ynm"
      },
      "execution_count": null,
      "outputs": []
    }
  ]
}