{
  "nbformat": 4,
  "nbformat_minor": 0,
  "metadata": {
    "colab": {
      "provenance": [],
      "collapsed_sections": []
    },
    "kernelspec": {
      "name": "python3",
      "display_name": "Python 3"
    },
    "language_info": {
      "name": "python"
    }
  },
  "cells": [
    {
      "cell_type": "markdown",
      "source": [
        "# Assignment 3: Non-Linear Models (Solution)\n",
        "----\n",
        "\n",
        "In this assignment, we will create and evaluate non-linear models for binary classification. Let's first import some packages.\n",
        "\n",
        "                    from sklearn.datasets import make_regression, make_circles\n",
        "                    from matplotlib import pyplot as plt\n",
        "                    from sklearn.model_selection import train_test_split\n",
        "                    from sklearn.svm import SVC\n",
        "                    import numpy as np"
      ],
      "metadata": {
        "id": "G0ej1Nhq6J4l"
      }
    },
    {
      "cell_type": "code",
      "source": [
        "from sklearn.datasets import make_circles\n",
        "from matplotlib import pyplot as plt\n",
        "from sklearn.model_selection import train_test_split\n",
        "from sklearn.svm import SVC\n",
        "import numpy as np"
      ],
      "metadata": {
        "id": "4GQ-Zm_UIRnw"
      },
      "execution_count": 3,
      "outputs": []
    },
    {
      "cell_type": "markdown",
      "source": [
        "Next, please finish the following steps.  \n",
        "\n",
        "- Generate circular data (100 examples) in two classes using `make_circles` ([link](https://scikit-learn.org/stable/modules/generated/sklearn.datasets.make_circles.html)). Please save the generated data to `X` and `y`.\n",
        "\n",
        "- We will use `np.where()` to get the indices of positive (where `y==1`) and negative (where `y==0`) examples. \n",
        "- Use `np.where()` to obtain the indices of positive examples (`y==1`) and negative example (`y==0`).\n",
        "- Visualize the positive examples and the negaitive examples by assigning them different markers/colors. \n",
        "- Split the data into 80% for training and 20% for testing. Save the data using the following variables: `X_train`, `X_test`, `y_train`, `y_test`.\n",
        "- Use `SVC` ([link](https://scikit-learn.org/stable/modules/generated/sklearn.svm.SVC.html)) to create three classifiers with `linear`, `polynomial`, and `RBF` kernels, (named `model_linear`, `model_poly`, `model_rbf`), respectively.\n",
        "- Train these classifiers using `fit()`.\n",
        "- Test the trained classifiers using test data and compare their performances with the following code. What did you find?"
      ],
      "metadata": {
        "id": "9YEGJRxyISg2"
      }
    },
    {
      "cell_type": "code",
      "source": [
        "\"\"\"\n",
        "Generate data and plot\n",
        "\"\"\"\n",
        "\n",
        "X, y = make_circles(100, factor=.1, noise=.1, random_state=42)\n",
        "\n",
        "pos_idx = np.where(y == 1)\n",
        "neg_idx = np.where(y == 0)\n",
        "    \n",
        "fig, ax = plt.subplots(figsize=(10,7), dpi = 80)\n",
        "ax.scatter(X[pos_idx,0], X[pos_idx,1], color='red', label=\"positive examples\")\n",
        "ax.scatter(X[neg_idx,0], X[neg_idx,1], color='blue', label=\"negative examples\")\n",
        "ax.set_xlabel('x1')\n",
        "ax.set_ylabel('x2')\n",
        "ax.legend()\n",
        "plt.show()\n",
        "\n",
        "\n",
        "\"\"\"\n",
        "Split data and train various classifiers\n",
        "\"\"\"\n",
        "X_train, X_test, y_train, y_test = train_test_split(X, y, test_size=0.20, random_state=42)\n",
        "\n",
        "model_linear = SVC(kernel='linear')\n",
        "model_linear.fit(X_train, y_train)\n",
        "\n",
        "model_poly = SVC(kernel='poly', degree=10)\n",
        "model_poly.fit(X_train, y_train)\n",
        "\n",
        "model_rbf = SVC(kernel='rbf')\n",
        "model_rbf.fit(X_train, y_train)\n",
        "\n",
        "print(model_linear.score(X_test, y_test))\n",
        "print(model_poly.score(X_test, y_test))\n",
        "print(model_rbf.score(X_test, y_test))"
      ],
      "metadata": {
        "colab": {
          "base_uri": "https://localhost:8080/",
          "height": 540
        },
        "id": "gk9qrAuR6O-s",
        "outputId": "1bb5f7d3-399e-416c-b33b-15fbcc7d3ca3"
      },
      "execution_count": 4,
      "outputs": [
        {
          "output_type": "display_data",
          "data": {
            "text/plain": [
              "<Figure size 800x560 with 1 Axes>"
            ],
            "image/png": "[encoded data removed]"
          },
          "metadata": {
            "needs_background": "light"
          }
        },
        {
          "output_type": "stream",
          "name": "stdout",
          "text": [
            "0.3\n",
            "1.0\n",
            "1.0\n"
          ]
        }
      ]
    },
    {
      "cell_type": "code",
      "source": [],
      "metadata": {
        "id": "cjOVEQudKj8j"
      },
      "execution_count": null,
      "outputs": []
    }
  ]
}