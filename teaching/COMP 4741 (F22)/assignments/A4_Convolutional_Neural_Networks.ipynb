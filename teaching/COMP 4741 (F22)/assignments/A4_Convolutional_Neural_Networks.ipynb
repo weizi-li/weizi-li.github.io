{
  "nbformat": 4,
  "nbformat_minor": 0,
  "metadata": {
    "colab": {
      "provenance": [],
      "collapsed_sections": []
    },
    "kernelspec": {
      "name": "python3",
      "display_name": "Python 3"
    },
    "language_info": {
      "name": "python"
    }
  },
  "cells": [
    {
      "cell_type": "markdown",
      "source": [
        "# Assignment 4: Convolutional Neural Networks\n",
        "---\n",
        "\n",
        "In this assignment, we will use the MNIST dataset\n",
        "([link](https://en.wikipedia.org/wiki/MNIST_database)) that contains images of hand-written digits from 0 to 9. \n",
        "\n",
        "You will need several libraries and built-in functions. Make sure you can compile the following code before proceeding.\n",
        "\n",
        "                    import numpy as np\n",
        "                    import matplotlib.pyplot as plt \n",
        "                    from tensorflow import keras\n",
        "                    from keras.datasets import mnist \n",
        "                    from keras.models import Sequential\n",
        "                    from keras.layers import Dense, Dropout, Flatten\n",
        "                    from keras.layers import Conv2D, MaxPooling2D"
      ],
      "metadata": {
        "id": "lqztjsWOeX5z"
      }
    },
    {
      "cell_type": "markdown",
      "source": [
        "## Exercises\n",
        "\n",
        "Let's first load and examine the dataset.\n",
        "\n",
        "- Use `mnist.load_data()` to load the data ([link](https://keras.io/api/datasets/mnist/)). This function will automatically split the dataset into training set and test set. Store them in `x_train`, `y_train`, `x_test`, and `y_test`; and check the dimensions of these variables.  \n",
        "- Create other necessary variables and set their values: `epochs` to 1, `num_classes` to 10 (since we have 0 to 9, in total 10 digits), and `batch_size` to 128. \n",
        "- Use the following code to set up `input_shape` for later use.\n",
        "\n",
        "                    ### specify the input image dimensions\n",
        "                    img_rows, img_cols = 28, 28\n",
        "\n",
        "                    ### specify the input_shape\n",
        "                    x_train = x_train.reshape(x_train.shape[0], img_rows, img_cols, 1)\n",
        "                    x_test = x_test.reshape(x_test.shape[0], img_rows, img_cols, 1)\n",
        "                    input_shape = (img_rows, img_cols, 1)\n",
        "                    print(input_shape)"
      ],
      "metadata": {
        "id": "UafbPsQZfSil"
      }
    },
    {
      "cell_type": "markdown",
      "source": [
        "- Use the following code to visualize sample images in the training set.\n",
        "\n",
        "                    fig, ax = plt.subplots(4,4,figsize = (10,11), dpi = 80)\n",
        "                    for i, ax in enumerate(fig.axes):\n",
        "                      ax.imshow(np.squeeze(x_train[i]), cmap='gray_r')\n",
        "                      ax.set_title(f\"label = {y_train[i]}\")\n",
        "<p align=\"center\">\n",
        "  <img src=\"https://user-images.githubusercontent.com/96804013/152453628-73ee57dd-dbf3-4846-92de-2eb93f750d49.jpg\")\n",
        "\"/>\n",
        "\n",
        "</p>\n",
        "\n",
        "<p align=\"center\">\n",
        "  <em>Figure 1: Visual inspection of the MNIST digits dataset</em>\n",
        "</p>\n",
        "\n",
        "\n",
        "\n",
        "- Normalize `x_train` and `x_test` (i.e., the pixel values) to the range [0, 1].\n",
        "- Convert `y_train` and `y_test` to a matrix of binary values. You may find the built-in function `keras.utils.to_categorical` useful."
      ],
      "metadata": {
        "id": "2lk9AU0ZgKfM"
      }
    },
    {
      "cell_type": "markdown",
      "source": [
        "Now, we have finished processing the dataset. Next, let's build a CNN\n",
        "- Initialize a Sequential model with following code. \n",
        "\n",
        "                  model = Sequential()\n",
        "\n",
        "- Use `model.add()` to build a CNN with the following architecture.\n",
        "\n",
        "  - 1st layer: convolutional layer with `32` filters, kernel size `3` by `3`, activation function ReLU.\n",
        "  - 2nd layer: convolutional layer with `64` filters, kernel size `3` by `3`, activation function ReLU.\n",
        "  - 3rd layer: pooling layer with max pooling and pooling size `2` by `2`.\n",
        "  - Add dropout with the ratio `0.25`.\n",
        "  - 4th layer: flatten layer.\n",
        "  - 5th layer: dense layer with `128` nodes and activation function ReLU.\n",
        "  - Add dropout with the ratio `0.25`.\n",
        "  - 6th layer (final layer): dense layer with the number of classes and activation function Softmax.\n",
        "\n",
        "- Use `model.summary()` to check the built CNN.\n",
        "\n",
        "- References: Conv2D ([link](https://keras.io/api/layers/convolution_layers/convolution2d/)), Dense ([link](https://keras.io/api/layers/core_layers/dense/)), Flatten ([link](https://keras.io/api/layers/reshaping_layers/flatten/)), Dropout ([link](https://keras.io/api/layers/regularization_layers/dropout/))\n",
        "\n",
        "\n"
      ],
      "metadata": {
        "id": "FFlD8Qu4j0QB"
      }
    },
    {
      "cell_type": "markdown",
      "source": [
        "Let's train the CNN we just built.\n",
        "\n",
        "- Compile the model by setting\n",
        "  - `loss` to `keras.losses.categorical_crossentropy` \n",
        "  - `optimizer` to `keras.optimizers.Adam()` \n",
        "  - `metrices` to `[`'`accuracy`'`]`\n",
        "\n",
        "- Train the model and report the results. See docs ([link](https://keras.io/api/models/model_training_apis/)) for references on `compile` and `fit` methods."
      ],
      "metadata": {
        "id": "AJP0-_Orke6h"
      }
    },
    {
      "cell_type": "markdown",
      "source": [
        "Now, you have trained your first CNN. Congratulations! Usually, you'd want to save your trained model for future use. Or you may want to use a trained model from others. So, knowing how to save a model and load a model are very important skills. \n",
        "- Could you try to save the above trained model trained and load it again to test the test set again?\n",
        "- Model load and save reference ([link](https://www.tensorflow.org/guide/keras/save_and_serialize))"
      ],
      "metadata": {
        "id": "kbvF3hCzlQxI"
      }
    },
    {
      "cell_type": "code",
      "source": [],
      "metadata": {
        "id": "sIhfF3fw9ynm"
      },
      "execution_count": null,
      "outputs": []
    }
  ]
}