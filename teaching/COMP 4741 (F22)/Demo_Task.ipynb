{
  "nbformat": 4,
  "nbformat_minor": 0,
  "metadata": {
    "colab": {
      "name": "Demo.ipynb",
      "provenance": [],
      "collapsed_sections": []
    },
    "kernelspec": {
      "name": "python3",
      "display_name": "Python 3"
    },
    "language_info": {
      "name": "python"
    }
  },
  "cells": [
    {
      "cell_type": "markdown",
      "source": [
        "# Assignment demo\n",
        "----------\n",
        "\n",
        "\n",
        "This assignment is to perform data exploration of the [Wine dataset](https://scikit-learn.org/stable/modules/generated/sklearn.datasets.load_wine.html#sklearn.datasets.load_wine) provided in [scikit-learn](https://scikit-learn.org/stable/index.html).\n",
        "\n",
        "### 1. Explore the dataset\n",
        "  - What is the number of features?\n",
        "  - What are the (min, max and mean) values for each feature?\n",
        "  - What is the number of targets?\n",
        "\n",
        "Use [Matplotlib](https://matplotlib.org/) for the following:\n",
        "\n",
        "### 2.  Plot the distribution of features in the dataset\n",
        "\n",
        "### 3.  Plot the distribution of classes in the dataset\n"
      ],
      "metadata": {
        "id": "HCDT0s3hsage"
      }
    },
    {
      "cell_type": "code",
      "source": [
        ""
      ],
      "metadata": {
        "id": "gwP3fI3mx1kU"
      },
      "execution_count": null,
      "outputs": []
    }
  ]
}
